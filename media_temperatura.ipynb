{
  "nbformat": 4,
  "nbformat_minor": 0,
  "metadata": {
    "colab": {
      "private_outputs": true,
      "provenance": [],
      "authorship_tag": "ABX9TyOWOshEJKudlgjDlIgGiFUT",
      "include_colab_link": true
    },
    "kernelspec": {
      "name": "python3",
      "display_name": "Python 3"
    },
    "language_info": {
      "name": "python"
    }
  },
  "cells": [
    {
      "cell_type": "markdown",
      "metadata": {
        "id": "view-in-github",
        "colab_type": "text"
      },
      "source": [
        "<a href=\"https://colab.research.google.com/github/Drmoxer/python-fundamentals-portfolio/blob/04_lists_loops/media_temperatura.ipynb\" target=\"_parent\"><img src=\"https://colab.research.google.com/assets/colab-badge.svg\" alt=\"Open In Colab\"/></a>"
      ]
    },
    {
      "cell_type": "markdown",
      "source": [
        "**🧮 4. Operators / Type Casting / Data Types**\n",
        "\n",
        "**Objetivo:** Manipular dados de forma numérica e lógica.\n",
        "\n",
        "Exercícios:\n",
        "\n",
        "🟢 Calcule a média de três valores de notas (float)."
      ],
      "metadata": {
        "id": "qcvY777q8kZq"
      }
    },
    {
      "cell_type": "code",
      "execution_count": null,
      "metadata": {
        "id": "Kx0J0yn48BvA"
      },
      "outputs": [],
      "source": [
        "nota1 = float(input(\"Digite a primeira nota: \"))\n",
        "nota2 = float(input(\"Digite a segunda nota \"))\n",
        "nota3 = float(input(\"Digite a terceira nota \"))\n",
        "media = nota1 + nota2 + nota3 / 3\n",
        "\n",
        "print(\"Sua média é \", media )\n"
      ]
    },
    {
      "cell_type": "markdown",
      "source": [
        "🟡 Faça o cast de uma string \"100\" em inteiro e some com outro número."
      ],
      "metadata": {
        "id": "1cV1RI6f8l-4"
      }
    },
    {
      "cell_type": "code",
      "source": [],
      "metadata": {
        "id": "-E5sv-O28oAZ"
      },
      "execution_count": null,
      "outputs": []
    },
    {
      "cell_type": "markdown",
      "source": [
        "🔵 Gere uma lista com valores de venda (float) e converta todos para inteiro, simulando arredondamento de relatório."
      ],
      "metadata": {
        "id": "TYcqumE78ojF"
      }
    },
    {
      "cell_type": "code",
      "source": [],
      "metadata": {
        "id": "pW3Tv1n_8owF"
      },
      "execution_count": null,
      "outputs": []
    }
  ]
}