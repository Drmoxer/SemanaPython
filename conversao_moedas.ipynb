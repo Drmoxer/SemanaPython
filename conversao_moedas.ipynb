{
  "nbformat": 4,
  "nbformat_minor": 0,
  "metadata": {
    "colab": {
      "private_outputs": true,
      "provenance": [],
      "authorship_tag": "ABX9TyNwP6SlAgFCQvH1T5GsRji5",
      "include_colab_link": true
    },
    "kernelspec": {
      "name": "python3",
      "display_name": "Python 3"
    },
    "language_info": {
      "name": "python"
    }
  },
  "cells": [
    {
      "cell_type": "markdown",
      "metadata": {
        "id": "view-in-github",
        "colab_type": "text"
      },
      "source": [
        "<a href=\"https://colab.research.google.com/github/Drmoxer/python-fundamentals-portfolio/blob/02_variables_constants/conversao_moedas.ipynb\" target=\"_parent\"><img src=\"https://colab.research.google.com/assets/colab-badge.svg\" alt=\"Open In Colab\"/></a>"
      ]
    },
    {
      "cell_type": "markdown",
      "source": [
        "2. Variables e Constants\n",
        "\n",
        "Objetivo: Trabalhar com dados armazenados e constantes para controle de configuração.\n",
        "\n",
        "Exercícios:\n",
        "\n",
        "🟢 Crie variáveis representando a coleta de dados de sensores (ex: temperatura, umidade, pressão).\n",
        "\n"
      ],
      "metadata": {
        "id": "Hmzp28890tWG"
      }
    },
    {
      "cell_type": "code",
      "execution_count": null,
      "metadata": {
        "id": "a7C9HNZTw9Bd"
      },
      "outputs": [],
      "source": [
        "temperatura = float(input(\"Digite a temperatura em C°: \"))\n",
        "umidade = float(input(\"Digite a umidade em %: \"))\n",
        "pressao = float(input(\"Digite a pressão em Pa: \"))\n",
        "\n",
        "print(f\"Segue as informações do ambiente:\\nTemperatura: {temperatura} C°\\nUmidade: {umidade} %\\nPressão: {pressao} Pa\")"
      ]
    },
    {
      "cell_type": "markdown",
      "source": [
        "🟡 Crie uma constante TAXA_DE_CONVERSAO = 5.41 e converta um valor em dólares para reais."
      ],
      "metadata": {
        "id": "SbeKf6tB00vL"
      }
    },
    {
      "cell_type": "code",
      "source": [
        "TAXA_DE_CONVERSAO = 5.41\n",
        "real = float(input(\"Digite o valor para a conversão \"))\n",
        "cambio = real / TAXA_DE_CONVERSAO\n",
        "\n",
        "print(f\"seu saldo total em reais é {cambio:.2f} R$\")"
      ],
      "metadata": {
        "id": "Sm5FF12l1HMJ"
      },
      "execution_count": null,
      "outputs": []
    },
    {
      "cell_type": "markdown",
      "source": [
        "🔵 Simule uma configuração de pipeline: crie variáveis e constantes que armazenem caminhos de dados, tamanho de lote, e exiba como uma “configuração de sistema”.\n",
        "\n",
        "**Descrição**:\n",
        "\n",
        "Pipelines de dados reais utilizam arquivos de configuração para centralizar informações importantes do sistema. Neste exercício, você irá criar variáveis que representam esses dados e depois exibir tudo como se fosse uma “Tela de Configuração do Sistema”.\n",
        "\n",
        "**Suas tarefas:**\n",
        "\n",
        " Crie variáveis/constantes para armazenar: 📭\n",
        "\n",
        "1. Caminho dos dados brutos (raw)\n",
        "\n",
        "2. Caminho dos dados processados\n",
        "\n",
        "3. Tamanho do lote (batch size)\n",
        "\n",
        "4. Nome do sistema\n",
        "\n",
        "5. Ambiente do sistema (DEV, TEST ou PROD)\n",
        "\n",
        "\n",
        "Ao final, exiba todas essas informações de forma organizada no console.\n"
      ],
      "metadata": {
        "id": "zj9WPJ5j033y"
      }
    },
    {
      "cell_type": "code",
      "source": [
        "RAW_DATA_PATCH = \"/data/raw \"\n",
        "PROCESSED_DATA_PATCH = \"data/database\"\n",
        "bachSize = 32\n",
        "SYSTEM_NAME = \"PYTHON ENGENHERIA DE DADOS\"\n",
        "ENVIROMENT = \"TEST\"\n",
        "\n",
        "print(\"========== System Config ===========\")\n",
        "print(f\"Nome : {SYSTEM_NAME}\")\n",
        "print(f\"Ambiente : {ENVIROMENT}\")\n",
        "print(f\"Caminho Raw : {RAW_DATA_PATCH}\")\n",
        "print(f\"Caminho Processado : {PROCESSED_DATA_PATCH}\")\n",
        "print(f\"Tamanho do Lote : {bachSize}\")\n",
        "\n",
        "\n"
      ],
      "metadata": {
        "id": "vX3LkEUy08YS"
      },
      "execution_count": null,
      "outputs": []
    }
  ]
}