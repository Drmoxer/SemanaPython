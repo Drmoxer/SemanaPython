{
  "nbformat": 4,
  "nbformat_minor": 0,
  "metadata": {
    "colab": {
      "provenance": [],
      "authorship_tag": "ABX9TyN1oUkgla25TG1xOFSh4bmP",
      "include_colab_link": true
    },
    "kernelspec": {
      "name": "python3",
      "display_name": "Python 3"
    },
    "language_info": {
      "name": "python"
    }
  },
  "cells": [
    {
      "cell_type": "markdown",
      "metadata": {
        "id": "view-in-github",
        "colab_type": "text"
      },
      "source": [
        "<a href=\"https://colab.research.google.com/github/Drmoxer/SemanaPython/blob/main/Introdu%C3%A7%C3%A3oaoPython.ipynb\" target=\"_parent\"><img src=\"https://colab.research.google.com/assets/colab-badge.svg\" alt=\"Open In Colab\"/></a>"
      ]
    },
    {
      "cell_type": "code",
      "source": [
        "anodenascimento = int(input(\"Digite o seu ano de nascimento\"))\n",
        "idade = anodenascimento - 2025\n",
        "print(\"Sua idade é\", idade)"
      ],
      "metadata": {
        "id": "u7Monucl0__u",
        "colab": {
          "base_uri": "https://localhost:8080/"
        },
        "outputId": "f7154111-a465-4d44-8565-6cc3101e95d6"
      },
      "execution_count": null,
      "outputs": [
        {
          "output_type": "stream",
          "name": "stdout",
          "text": [
            "Digite o seu ano de nascimento100000000000000000\n",
            "Sua idade é 99999999999997975\n"
          ]
        }
      ]
    },
    {
      "cell_type": "markdown",
      "source": [],
      "metadata": {
        "id": "nbU5l7a4-8oU"
      }
    },
    {
      "cell_type": "code",
      "source": [
        "n1=int(input(\"Digite um numero:\"))\n",
        "n2= int(input(\"Digite um numero:\"))\n",
        "soma = n1 + n2\n",
        "subtracao = n1 - n2\n",
        "multiplicacao = n1 * n2\n",
        "divisao = n1 / n2\n",
        "\n",
        "print(\"A soma é \", soma)\n",
        "print(\"A subtração é\", subtracao)\n",
        "print(\"A multiplicação é\", multiplicacao)\n",
        "print(\"A divisão é \", divisao)"
      ],
      "metadata": {
        "id": "nCPmU5JSxSaK",
        "colab": {
          "base_uri": "https://localhost:8080/"
        },
        "outputId": "b78c5712-8182-4199-8861-d820a332e08e"
      },
      "execution_count": null,
      "outputs": [
        {
          "output_type": "stream",
          "name": "stdout",
          "text": [
            "Digite um numero:9\n",
            "Digite um numero:3\n",
            "A soma é  12\n",
            "A subtração é 6\n",
            "A multiplicação é 27\n",
            "A divisão é  3.0\n"
          ]
        }
      ]
    },
    {
      "cell_type": "code",
      "source": [
        "nome = input(\"Digite seu nome\")\n",
        "print (\"Bem vindo\", nome)"
      ],
      "metadata": {
        "id": "F0kg1bNh00-W",
        "colab": {
          "base_uri": "https://localhost:8080/"
        },
        "outputId": "32778614-d7aa-42a5-ad66-1451dd4a76bf"
      },
      "execution_count": null,
      "outputs": [
        {
          "output_type": "stream",
          "name": "stdout",
          "text": [
            "Digite seu nomemoisés\n",
            "Bem vindo moisés\n"
          ]
        }
      ]
    },
    {
      "cell_type": "code",
      "source": [],
      "metadata": {
        "id": "7tKmOWZcQP6f"
      },
      "execution_count": null,
      "outputs": []
    }
  ]
}