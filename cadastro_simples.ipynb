{
  "nbformat": 4,
  "nbformat_minor": 0,
  "metadata": {
    "colab": {
      "provenance": [],
      "authorship_tag": "ABX9TyOXyosKTJNM5FCyUTu6PqFK",
      "include_colab_link": true
    },
    "kernelspec": {
      "name": "python3",
      "display_name": "Python 3"
    },
    "language_info": {
      "name": "python"
    }
  },
  "cells": [
    {
      "cell_type": "markdown",
      "metadata": {
        "id": "view-in-github",
        "colab_type": "text"
      },
      "source": [
        "<a href=\"https://colab.research.google.com/github/Drmoxer/python-fundamentals-portfolio/blob/main/cadastro_simples.ipynb\" target=\"_parent\"><img src=\"https://colab.research.google.com/assets/colab-badge.svg\" alt=\"Open In Colab\"/></a>"
      ]
    },
    {
      "cell_type": "markdown",
      "source": [
        "🧩 1. Intro / Programming Basics\n",
        "\n",
        "Objetivo: Entender o fluxo lógico e entrada/saída.\n",
        "\n",
        "Exercícios:\n",
        "\n",
        "🟢 Crie um programa que pergunte o nome do usuário e o cumprimente com uma frase personalizada.\n",
        "\n",
        "**Dica**\n",
        "Para declarar uma variavél em Python :\n",
        "\n",
        "```\n",
        "# nomeDaVariavel = \"OqueaVariavélcarrega\"\n",
        "```\n",
        "O comando para imprimir no console é:\n",
        "\n",
        "```\n",
        "# print(\"Escreva o que você quiser\", nomeDaVariavel)\n",
        "```\n",
        "**Note que depois da virgulas podemos chamar a variavél para ser imprimida junto do texto.**\n",
        "\n"
      ],
      "metadata": {
        "id": "vcZ7YWsVVqsF"
      }
    },
    {
      "cell_type": "code",
      "execution_count": null,
      "metadata": {
        "id": "0tEKQykLVhCb"
      },
      "outputs": [],
      "source": [
        "nomeDoCliente = input(\"Qual o seu nome? \")\n",
        "print(\"Seja Bem-Vinda ao canal de atendimento \", nomeDoCliente)\n",
        "\n"
      ]
    },
    {
      "cell_type": "markdown",
      "source": [
        "🟡 Faça um programa que receba a idade e diga se o usuário é menor de idade, adulto ou idoso.\n",
        "\n",
        "\n"
      ],
      "metadata": {
        "id": "21x3CwU8ZIIq"
      }
    },
    {
      "cell_type": "code",
      "source": [
        "idadeDoCliente = int(input(\"Digite sua idade por favor: \"))\n",
        "if idadeDoCliente >= 20:\n",
        "    print(\" Seja Bem-Vindo Senhor\" , nomeDoCliente , \"Você será encaminhado para o setor de Responsáveis \")\n",
        "else:\n",
        "    print(\"Seja Bem-Vindo Aluno\",nomeDoCliente, \"Você será encaminhado para a página do Aluno\")\n"
      ],
      "metadata": {
        "id": "evCxWONeXK1F"
      },
      "execution_count": null,
      "outputs": []
    },
    {
      "cell_type": "markdown",
      "source": [
        "🔵 Gere uma “mini ficha de cadastro” (nome, idade, profissão, cidade) e exiba como um dicionário Python formatado."
      ],
      "metadata": {
        "id": "WIqyjgSPZXpB"
      }
    },
    {
      "cell_type": "code",
      "source": [
        "print(\" Seja Bem-Vindo ao Cadastro de Alunos, Por favor insira sua idade para encaminhar você para iniciar o cadastro\")\n",
        "idade=int(input(\"Digite sua idade \"))\n",
        "if idade >= 18:\n",
        "  print(\" Você está sendo direcionado para o cadastro do Aluno\")\n",
        "  nome = input(\"Nome do Aluno: \")\n",
        "  idadedoaluno = int(input(\"Idade do Aluno: \"))\n",
        "  cursoDesejado = input(\"Curso desejado: \")\n",
        "  contato = input(\"Telefone: \")"
      ],
      "metadata": {
        "id": "DqHGnhiaZY9o"
      },
      "execution_count": null,
      "outputs": []
    }
  ]
}