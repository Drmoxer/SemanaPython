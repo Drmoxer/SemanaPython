{
  "nbformat": 4,
  "nbformat_minor": 0,
  "metadata": {
    "colab": {
      "provenance": [],
      "authorship_tag": "ABX9TyOXyosKTJNM5FCyUTu6PqFK",
      "include_colab_link": true
    },
    "kernelspec": {
      "name": "python3",
      "display_name": "Python 3"
    },
    "language_info": {
      "name": "python"
    }
  },
  "cells": [
    {
      "cell_type": "markdown",
      "metadata": {
        "id": "view-in-github",
        "colab_type": "text"
      },
      "source": [
        "<a href=\"https://colab.research.google.com/github/Drmoxer/python-fundamentals-portfolio/blob/main/cadastro_simples.ipynb\" target=\"_parent\"><img src=\"https://colab.research.google.com/assets/colab-badge.svg\" alt=\"Open In Colab\"/></a>"
      ]
    },
    {
      "cell_type": "markdown",
      "source": [
        "🧩 1. Intro / Programming Basics\n",
        "\n",
        "Objetivo: Entender o fluxo lógico e entrada/saída.\n",
        "\n",
        "Exercícios:\n",
        "\n",
        "🟢 Crie um programa que pergunte o nome do usuário e o cumprimente com uma frase personalizada.\n",
        "\n",
        "**Dica**\n",
        "Para declarar uma variavél em Python :\n",
        "\n",
        "```\n",
        "# nomeDaVariavel = \"OqueaVariavélcarrega\"\n",
        "```\n",
        "O comando para imprimir no console é:\n",
        "\n",
        "```\n",
        "# print(\"Escreva o que você quiser\", nomeDaVariavel)\n",
        "```\n",
        "**Note que depois da virgulas podemos chamar a variavél para ser imprimida junto do texto.**\n",
        "\n"
      ],
      "metadata": {
        "id": "vcZ7YWsVVqsF"
      }
    },
    {
      "cell_type": "code",
      "execution_count": 1,
      "metadata": {
        "id": "0tEKQykLVhCb",
        "colab": {
          "base_uri": "https://localhost:8080/",
          "height": 321
        },
        "outputId": "bf70c1a5-4eec-4bfa-ba97-0096df04fa9e"
      },
      "outputs": [
        {
          "output_type": "error",
          "ename": "KeyboardInterrupt",
          "evalue": "Interrupted by user",
          "traceback": [
            "\u001b[0;31m---------------------------------------------------------------------------\u001b[0m",
            "\u001b[0;31mKeyboardInterrupt\u001b[0m                         Traceback (most recent call last)",
            "\u001b[0;32m/tmp/ipython-input-3916801232.py\u001b[0m in \u001b[0;36m<cell line: 0>\u001b[0;34m()\u001b[0m\n\u001b[0;32m----> 1\u001b[0;31m \u001b[0mnomeDoCliente\u001b[0m \u001b[0;34m=\u001b[0m \u001b[0minput\u001b[0m\u001b[0;34m(\u001b[0m\u001b[0;34m\"Qual o seu nome? \"\u001b[0m\u001b[0;34m)\u001b[0m\u001b[0;34m\u001b[0m\u001b[0;34m\u001b[0m\u001b[0m\n\u001b[0m\u001b[1;32m      2\u001b[0m \u001b[0mprint\u001b[0m\u001b[0;34m(\u001b[0m\u001b[0;34m\"Seja Bem-Vinda ao canal de atendimento \"\u001b[0m\u001b[0;34m,\u001b[0m \u001b[0mnomeDoCliente\u001b[0m\u001b[0;34m)\u001b[0m\u001b[0;34m\u001b[0m\u001b[0;34m\u001b[0m\u001b[0m\n\u001b[1;32m      3\u001b[0m \u001b[0;34m\u001b[0m\u001b[0m\n",
            "\u001b[0;32m/usr/local/lib/python3.12/dist-packages/ipykernel/kernelbase.py\u001b[0m in \u001b[0;36mraw_input\u001b[0;34m(self, prompt)\u001b[0m\n\u001b[1;32m   1175\u001b[0m                 \u001b[0;34m\"raw_input was called, but this frontend does not support input requests.\"\u001b[0m\u001b[0;34m\u001b[0m\u001b[0;34m\u001b[0m\u001b[0m\n\u001b[1;32m   1176\u001b[0m             )\n\u001b[0;32m-> 1177\u001b[0;31m         return self._input_request(\n\u001b[0m\u001b[1;32m   1178\u001b[0m             \u001b[0mstr\u001b[0m\u001b[0;34m(\u001b[0m\u001b[0mprompt\u001b[0m\u001b[0;34m)\u001b[0m\u001b[0;34m,\u001b[0m\u001b[0;34m\u001b[0m\u001b[0;34m\u001b[0m\u001b[0m\n\u001b[1;32m   1179\u001b[0m             \u001b[0mself\u001b[0m\u001b[0;34m.\u001b[0m\u001b[0m_parent_ident\u001b[0m\u001b[0;34m[\u001b[0m\u001b[0;34m\"shell\"\u001b[0m\u001b[0;34m]\u001b[0m\u001b[0;34m,\u001b[0m\u001b[0;34m\u001b[0m\u001b[0;34m\u001b[0m\u001b[0m\n",
            "\u001b[0;32m/usr/local/lib/python3.12/dist-packages/ipykernel/kernelbase.py\u001b[0m in \u001b[0;36m_input_request\u001b[0;34m(self, prompt, ident, parent, password)\u001b[0m\n\u001b[1;32m   1217\u001b[0m             \u001b[0;32mexcept\u001b[0m \u001b[0mKeyboardInterrupt\u001b[0m\u001b[0;34m:\u001b[0m\u001b[0;34m\u001b[0m\u001b[0;34m\u001b[0m\u001b[0m\n\u001b[1;32m   1218\u001b[0m                 \u001b[0;31m# re-raise KeyboardInterrupt, to truncate traceback\u001b[0m\u001b[0;34m\u001b[0m\u001b[0;34m\u001b[0m\u001b[0m\n\u001b[0;32m-> 1219\u001b[0;31m                 \u001b[0;32mraise\u001b[0m \u001b[0mKeyboardInterrupt\u001b[0m\u001b[0;34m(\u001b[0m\u001b[0;34m\"Interrupted by user\"\u001b[0m\u001b[0;34m)\u001b[0m \u001b[0;32mfrom\u001b[0m \u001b[0;32mNone\u001b[0m\u001b[0;34m\u001b[0m\u001b[0;34m\u001b[0m\u001b[0m\n\u001b[0m\u001b[1;32m   1220\u001b[0m             \u001b[0;32mexcept\u001b[0m \u001b[0mException\u001b[0m\u001b[0;34m:\u001b[0m\u001b[0;34m\u001b[0m\u001b[0;34m\u001b[0m\u001b[0m\n\u001b[1;32m   1221\u001b[0m                 \u001b[0mself\u001b[0m\u001b[0;34m.\u001b[0m\u001b[0mlog\u001b[0m\u001b[0;34m.\u001b[0m\u001b[0mwarning\u001b[0m\u001b[0;34m(\u001b[0m\u001b[0;34m\"Invalid Message:\"\u001b[0m\u001b[0;34m,\u001b[0m \u001b[0mexc_info\u001b[0m\u001b[0;34m=\u001b[0m\u001b[0;32mTrue\u001b[0m\u001b[0;34m)\u001b[0m\u001b[0;34m\u001b[0m\u001b[0;34m\u001b[0m\u001b[0m\n",
            "\u001b[0;31mKeyboardInterrupt\u001b[0m: Interrupted by user"
          ]
        }
      ],
      "source": [
        "nomeDoCliente = input(\"Qual o seu nome? \")\n",
        "print(\"Seja Bem-Vinda ao canal de atendimento \", nomeDoCliente)\n",
        "\n"
      ]
    },
    {
      "cell_type": "markdown",
      "source": [
        "🟡 Faça um programa que receba a idade e diga se o usuário é menor de idade, adulto ou idoso.\n",
        "\n",
        "\n"
      ],
      "metadata": {
        "id": "21x3CwU8ZIIq"
      }
    },
    {
      "cell_type": "code",
      "source": [
        "idadeDoCliente = int(input(\"Digite sua idade por favor: \"))\n",
        "if idadeDoCliente >= 20:\n",
        "    print(\" Seja Bem-Vindo Senhor\" , nomeDoCliente , \"Você será encaminhado para o setor de Responsáveis \")\n",
        "else:\n",
        "    print(\"Seja Bem-Vindo Aluno\",nomeDoCliente, \"Você será encaminhado para a página do Aluno\")\n"
      ],
      "metadata": {
        "id": "evCxWONeXK1F"
      },
      "execution_count": null,
      "outputs": []
    },
    {
      "cell_type": "markdown",
      "source": [
        "🔵 Gere uma “mini ficha de cadastro” (nome, idade, profissão, cidade) e exiba como um dicionário Python formatado."
      ],
      "metadata": {
        "id": "WIqyjgSPZXpB"
      }
    },
    {
      "cell_type": "code",
      "source": [
        "print(\" Seja Bem-Vindo ao Cadastro de Alunos, Por favor insira sua idade para encaminhar você para iniciar o cadastro\")\n",
        "idade=int(input(\"Digite sua idade \"))\n",
        "if idade >= 18:\n",
        "  print(\" Você está sendo direcionado para o cadastro do Aluno\")\n",
        "  nome = input(\"Nome do Aluno: \")\n",
        "  idadedoaluno = int(input(\"Idade do Aluno: \"))\n",
        "  cursoDesejado = input(\"Curso desejado: \")\n",
        "  contato = input(\"Telefone: \")"
      ],
      "metadata": {
        "id": "DqHGnhiaZY9o"
      },
      "execution_count": null,
      "outputs": []
    }
  ]
}