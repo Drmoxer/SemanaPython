{
  "nbformat": 4,
  "nbformat_minor": 0,
  "metadata": {
    "colab": {
      "private_outputs": true,
      "provenance": [],
      "authorship_tag": "ABX9TyM5pzzFu6Svv7NTMBvEdbeP",
      "include_colab_link": true
    },
    "kernelspec": {
      "name": "python3",
      "display_name": "Python 3"
    },
    "language_info": {
      "name": "python"
    }
  },
  "cells": [
    {
      "cell_type": "markdown",
      "metadata": {
        "id": "view-in-github",
        "colab_type": "text"
      },
      "source": [
        "<a href=\"https://colab.research.google.com/github/Drmoxer/python-fundamentals-portfolio/blob/05_arrays_lists/filtragem_dados.ipynb\" target=\"_parent\"><img src=\"https://colab.research.google.com/assets/colab-badge.svg\" alt=\"Open In Colab\"/></a>"
      ]
    },
    {
      "cell_type": "markdown",
      "source": [
        "**🔁 6. Loops**\n",
        "\n",
        "**Objetivo:** Iterar sobre dados e automatizar tarefas.\n",
        "\n",
        "Exercícios:\n",
        "\n",
        "🟢 Use um **for** para exibir cada item de uma lista de nomes."
      ],
      "metadata": {
        "id": "ABcwabpW2V1I"
      }
    },
    {
      "cell_type": "code",
      "execution_count": null,
      "metadata": {
        "id": "Q-1fHYyx0jQ9"
      },
      "outputs": [],
      "source": [
        "lists_names = [\"Michele C.\",\"Bruno Ev.\",\"Gabriel B.\",\"Moisés P.\"]\n",
        "for names in lists_names:\n",
        "  print(names)"
      ]
    },
    {
      "cell_type": "markdown",
      "source": [
        "🟡 Crie um loop que conte quantos valores acima de 50 existem em uma lista."
      ],
      "metadata": {
        "id": "H-UGWhvd54M_"
      }
    },
    {
      "cell_type": "code",
      "source": [
        "numbers_list = [1, 3 ,10, 30, 50, 60, 70, 80, 90, 100, 110, 200, 500]\n",
        "\n",
        "for numbers in range(len(numbers_list)):\n",
        "  if numbers_list[numbers] > 50:\n",
        "    print(numbers)"
      ],
      "metadata": {
        "id": "NXtDfOuc54jP"
      },
      "execution_count": null,
      "outputs": []
    },
    {
      "cell_type": "markdown",
      "source": [
        "**🔵 Exercício – Filtrar dados válidos em um loop**\n",
        "\n",
        "1. Crie uma lista que simule registros vindos de um arquivo.\n",
        "\n",
        "2. Cada registro deve ser um dicionário, contendo pelo menos:\n",
        "\n",
        "* \"nome\" (string)\n",
        "\n",
        "* \"idade\" (número)\n",
        "\n",
        "4. Depois, faça um loop for para percorrer essa lista item por item, como se o programa estivesse “lendo” as linhas de um arquivo.\n",
        "\n",
        "5. Durante o loop, exiba somente os registros considerados válidos, ou seja, apenas aqueles onde:\n",
        "\n",
        "```\n",
        "# A idade é maior que 18\n",
        "```\n",
        "\n",
        "\n",
        "\n",
        "\n"
      ],
      "metadata": {
        "id": "Fw_JVZhSAEic"
      }
    },
    {
      "cell_type": "code",
      "source": [
        "registro = [{\"nome\": \"Adam\",\"idade\": 13},\n",
        "            {\"nome\": \"Gael\",\"idade\": 3},\n",
        "            {\"nome\": \"Pablo\",\"idade\": 17},\n",
        "            {\"nome\": \"Kevin\" ,\"idade\": 23},\n",
        "            {\"nome\": \"Ricardo\", \"idade\": 78},\n",
        "            {\"nome\": \"Gabriel\", \"idade\": 25}\n",
        "            ]\n",
        "for cliente in registro:\n",
        " if cliente[\"idade\"] > 18:\n",
        "  print(cliente)"
      ],
      "metadata": {
        "id": "D36kYSEEAESB"
      },
      "execution_count": null,
      "outputs": []
    }
  ]
}