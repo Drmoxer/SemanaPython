{
  "nbformat": 4,
  "nbformat_minor": 0,
  "metadata": {
    "colab": {
      "private_outputs": true,
      "provenance": [],
      "authorship_tag": "ABX9TyORp2N4Pnl4ZvLk8Gr98xsY",
      "include_colab_link": true
    },
    "kernelspec": {
      "name": "python3",
      "display_name": "Python 3"
    },
    "language_info": {
      "name": "python"
    }
  },
  "cells": [
    {
      "cell_type": "markdown",
      "metadata": {
        "id": "view-in-github",
        "colab_type": "text"
      },
      "source": [
        "<a href=\"https://colab.research.google.com/github/Drmoxer/python-fundamentals-portfolio/blob/main/media_arredondamento.ipynb\" target=\"_parent\"><img src=\"https://colab.research.google.com/assets/colab-badge.svg\" alt=\"Open In Colab\"/></a>"
      ]
    },
    {
      "cell_type": "markdown",
      "source": [
        "**🧮 4. Operators / Type Casting / Data Types**\n",
        "\n",
        "**Objetivo:** Manipular dados de forma numérica e lógica.\n",
        "\n",
        "Exercícios:\n",
        "\n",
        "🟢 Calcule a média de três valores de notas (float)."
      ],
      "metadata": {
        "id": "qcvY777q8kZq"
      }
    },
    {
      "cell_type": "code",
      "execution_count": null,
      "metadata": {
        "id": "Kx0J0yn48BvA"
      },
      "outputs": [],
      "source": [
        "nota1 = float(input(\"Digite a primeira nota: \"))\n",
        "nota2 = float(input(\"Digite a segunda nota \"))\n",
        "nota3 = float(input(\"Digite a terceira nota \"))\n",
        "media = (nota1 + nota2 + nota3) / 3\n",
        "\n",
        "print(\"Sua média é \", media )\n"
      ]
    },
    {
      "cell_type": "markdown",
      "source": [
        "🟡 Faça o cast de uma string \"100\" em inteiro e some com outro número."
      ],
      "metadata": {
        "id": "1cV1RI6f8l-4"
      }
    },
    {
      "cell_type": "code",
      "source": [
        "cem = \"100\"\n",
        "casting_result = int(cem)+ 50\n",
        "print(\"Seu texto virou número e se transformou em : \", casting_result )"
      ],
      "metadata": {
        "id": "-E5sv-O28oAZ"
      },
      "execution_count": null,
      "outputs": []
    },
    {
      "cell_type": "markdown",
      "source": [
        "🔵 Gere uma lista com valores de venda (float) e converta todos para inteiro, simulando arredondamento de relatório."
      ],
      "metadata": {
        "id": "TYcqumE78ojF"
      }
    },
    {
      "cell_type": "code",
      "source": [
        "float_value = [23.3, 25.6, 39.3, 10.5]\n",
        "int_value = [int(value) for value in float_value]\n",
        "print(int_value)"
      ],
      "metadata": {
        "id": "pW3Tv1n_8owF"
      },
      "execution_count": null,
      "outputs": []
    }
  ]
}