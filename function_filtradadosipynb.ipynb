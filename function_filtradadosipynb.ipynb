{
  "nbformat": 4,
  "nbformat_minor": 0,
  "metadata": {
    "colab": {
      "private_outputs": true,
      "provenance": [],
      "authorship_tag": "ABX9TyM+hXcqd/Hi79E3f6oWldeO",
      "include_colab_link": true
    },
    "kernelspec": {
      "name": "python3",
      "display_name": "Python 3"
    },
    "language_info": {
      "name": "python"
    }
  },
  "cells": [
    {
      "cell_type": "markdown",
      "metadata": {
        "id": "view-in-github",
        "colab_type": "text"
      },
      "source": [
        "<a href=\"https://colab.research.google.com/github/Drmoxer/python-fundamentals-portfolio/blob/07_functions_scope/function_filtradadosipynb.ipynb\" target=\"_parent\"><img src=\"https://colab.research.google.com/assets/colab-badge.svg\" alt=\"Open In Colab\"/></a>"
      ]
    },
    {
      "cell_type": "markdown",
      "source": [
        "**⚙️ 7. Functions / Scope **\n",
        "\n",
        "**Objetivo:** Organizar o código em blocos reutilizáveis.\n",
        "\n",
        "Exercícios:\n",
        "\n",
        "🟢 Crie uma função saudacao(nome) que imprime “Olá, [nome]!”."
      ],
      "metadata": {
        "id": "fpmx89NRXwLk"
      }
    },
    {
      "cell_type": "code",
      "execution_count": null,
      "metadata": {
        "id": "QuSki_O6XvSk"
      },
      "outputs": [],
      "source": [
        "def saudacao(nome):\n",
        "  nome = input(\"Digite seu nome: \")\n",
        "  print(\"Olá\", nome)\n",
        "#chamando a função\n",
        "saudacao(\"\")"
      ]
    },
    {
      "cell_type": "markdown",
      "source": [
        "🟡 Crie uma função media(lista) que retorna a média dos elementos."
      ],
      "metadata": {
        "id": "dRv1mXFxeT29"
      }
    },
    {
      "cell_type": "code",
      "source": [
        "media_lista = [12.9, 9.9, 22.3, 44.0]\n",
        "def media(media_lista):\n",
        "  Valor_media = sum(media_lista)/ len(media_lista)\n",
        "  print(\"A media dessa lista é \", Valor_media)\n",
        "\n",
        "#chamando função\n",
        "media(media_lista)"
      ],
      "metadata": {
        "id": "vlMVEpJ4eWzE"
      },
      "execution_count": null,
      "outputs": []
    },
    {
      "cell_type": "markdown",
      "source": [
        "\n",
        "🔵 Exercício: Função filtrar_dados(lista, condicao)\n",
        "📌 Objetivo\n",
        "\n",
        "Criar uma função que recebe:\n",
        "\n",
        "1. uma lista de dados\n",
        "\n",
        "2. uma função-condição (que decide se um item é válido ou não)\n",
        "e retorna uma nova lista contendo apenas os elementos que passaram no filtro.\n",
        "\n",
        "Esse exercício introduz um conceito muito importante em Data Science e Engenharia de Dados:"
      ],
      "metadata": {
        "id": "9CAoei4veVqE"
      }
    },
    {
      "cell_type": "code",
      "source": [
        "dados = [{\"nome\":\"Gabriela \",\"idade\": 29},\n",
        "         {\"nome\":\"Moisés \", \"idade\": 23},\n",
        "         {\"nome\": \"João \",\"idade\": 10},\n",
        "         {\"nome\": \"Marcos\", \"idade\": 5}]\n",
        "\n",
        "\n",
        "def maior_de_idade(item):\n",
        "  return item[\"idade\"] >= 18\n",
        "\n",
        "def filtra_dados (dados, maior_de_idade,):\n",
        "  resultado = []\n",
        "  for idade in dados:\n",
        "    if maior_de_idade(idade):\n",
        "       resultado.append(idade)\n",
        "    return resultado\n",
        "\n",
        "resultado = filtra_dados(dados,maior_de_idade,)\n",
        "print(resultado)"
      ],
      "metadata": {
        "id": "LFx3Xt3feXRM"
      },
      "execution_count": null,
      "outputs": []
    }
  ]
}