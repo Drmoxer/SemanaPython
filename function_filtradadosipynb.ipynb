{
  "nbformat": 4,
  "nbformat_minor": 0,
  "metadata": {
    "colab": {
      "private_outputs": true,
      "provenance": [],
      "authorship_tag": "ABX9TyM5cu4k/ftYdgYz7mh95t7E",
      "include_colab_link": true
    },
    "kernelspec": {
      "name": "python3",
      "display_name": "Python 3"
    },
    "language_info": {
      "name": "python"
    }
  },
  "cells": [
    {
      "cell_type": "markdown",
      "metadata": {
        "id": "view-in-github",
        "colab_type": "text"
      },
      "source": [
        "<a href=\"https://colab.research.google.com/github/Drmoxer/python-fundamentals-portfolio/blob/07_functions_scope/function_filtradadosipynb.ipynb\" target=\"_parent\"><img src=\"https://colab.research.google.com/assets/colab-badge.svg\" alt=\"Open In Colab\"/></a>"
      ]
    },
    {
      "cell_type": "markdown",
      "source": [
        "**⚙️ 7. Functions / Scope **\n",
        "\n",
        "**Objetivo:** Organizar o código em blocos reutilizáveis.\n",
        "\n",
        "Exercícios:\n",
        "\n",
        "🟢 Crie uma função saudacao(nome) que imprime “Olá, [nome]!”."
      ],
      "metadata": {
        "id": "fpmx89NRXwLk"
      }
    },
    {
      "cell_type": "code",
      "execution_count": null,
      "metadata": {
        "id": "QuSki_O6XvSk"
      },
      "outputs": [],
      "source": [
        "def saudacao():\n",
        "  print(\"Olá\", nome)\n",
        "\n",
        "saudacao(nome(\"Gabi\"))"
      ]
    },
    {
      "cell_type": "markdown",
      "source": [
        "🟡 Crie uma função media(lista) que retorna a média dos elementos."
      ],
      "metadata": {
        "id": "dRv1mXFxeT29"
      }
    },
    {
      "cell_type": "code",
      "source": [],
      "metadata": {
        "id": "vlMVEpJ4eWzE"
      },
      "execution_count": null,
      "outputs": []
    },
    {
      "cell_type": "markdown",
      "source": [
        "\n",
        "🔵 Crie uma função filtrar_dados(lista, condicao) que recebe uma lista e uma função condicional, e retorna apenas os dados válidos (começando a aplicar funções de ordem superior, comuns em Data Science)."
      ],
      "metadata": {
        "id": "9CAoei4veVqE"
      }
    },
    {
      "cell_type": "code",
      "source": [],
      "metadata": {
        "id": "LFx3Xt3feXRM"
      },
      "execution_count": null,
      "outputs": []
    }
  ]
}