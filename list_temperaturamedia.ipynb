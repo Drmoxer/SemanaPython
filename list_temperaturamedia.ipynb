{
  "nbformat": 4,
  "nbformat_minor": 0,
  "metadata": {
    "colab": {
      "private_outputs": true,
      "provenance": [],
      "authorship_tag": "ABX9TyOByFtmKi+cOYtaAoY0n9FK",
      "include_colab_link": true
    },
    "kernelspec": {
      "name": "python3",
      "display_name": "Python 3"
    },
    "language_info": {
      "name": "python"
    }
  },
  "cells": [
    {
      "cell_type": "markdown",
      "metadata": {
        "id": "view-in-github",
        "colab_type": "text"
      },
      "source": [
        "<a href=\"https://colab.research.google.com/github/Drmoxer/python-fundamentals-portfolio/blob/06_arrays_lists/list_temperaturamedia.ipynb\" target=\"_parent\"><img src=\"https://colab.research.google.com/assets/colab-badge.svg\" alt=\"Open In Colab\"/></a>"
      ]
    },
    {
      "cell_type": "markdown",
      "source": [
        "🔢 5. Arrays (Listas)\n",
        "\n",
        "**Objetivo:** Trabalhar com conjuntos de dados.\n",
        "\n",
        "**DICA:**\n",
        "Para criar uma lista em Python usamos:\n",
        "```\n",
        "nome_da_lista = [\"valores\", \"que\" , \"vão\", \"entrar\" ,\"na\" ,\"lista\"]\n",
        "```\n",
        "\n",
        "Exercícios:\n",
        "\n",
        "🟢 Crie uma lista com 10 valores de temperaturas."
      ],
      "metadata": {
        "id": "YHNz0aOD4VgI"
      }
    },
    {
      "cell_type": "code",
      "source": [
        "lista_temperaturas = [23.0, 32.1 , 50.1, 60.2]"
      ],
      "metadata": {
        "id": "WRC7oKVz4Y7V"
      },
      "execution_count": null,
      "outputs": []
    },
    {
      "cell_type": "markdown",
      "source": [
        "🟡 Calcule a média das temperaturas, o valor máximo e o mínimo.\n",
        "\n",
        "**DICA:**\n",
        "em Python existe comandos para facilitar alguns cálculos, por exemplo:\n",
        "\n",
        "```\n",
        "sum() = função para somar todos os itens de uma lista ou coleção de dados\n",
        "max() = função para pegar o maior valor\n",
        "min() = função para pegar o menor valor\n",
        "```\n",
        "\n"
      ],
      "metadata": {
        "id": "qaSe6ALH4cjN"
      }
    },
    {
      "cell_type": "code",
      "source": [
        "media = sum(lista_temperaturas)/len(lista_temperaturas)\n",
        "maximo = max(lista_temperaturas)\n",
        "minimo = min(lista_temperaturas)\n",
        "print(\"A media de temperatura é \", media)\n",
        "print(\"A temperatura máxima é \", maximo)\n",
        "print(\"A temperatura mínima é \", minimo)"
      ],
      "metadata": {
        "id": "fqX8DVxE4ZHs"
      },
      "execution_count": null,
      "outputs": []
    },
    {
      "cell_type": "markdown",
      "source": [
        "🔵 Crie uma função que receba uma lista de dados e retorne apenas os valores acima da média."
      ],
      "metadata": {
        "id": "jhAzPTwZ4g16"
      }
    },
    {
      "cell_type": "code",
      "execution_count": null,
      "metadata": {
        "id": "a5rxrF_l4Dzy"
      },
      "outputs": [],
      "source": [
        "def high_media_temp(lista_temperaturas):\n",
        "  for temperatura in lista_temperaturas:\n",
        "   if temperatura > media:\n",
        "    print(\"As temperaturas acima da media são \", temperatura)"
      ]
    },
    {
      "cell_type": "code",
      "metadata": {
        "id": "83be1116"
      },
      "source": [
        "high_media_temp(lista_temperaturas)"
      ],
      "execution_count": null,
      "outputs": []
    }
  ]
}