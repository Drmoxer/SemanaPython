{
  "nbformat": 4,
  "nbformat_minor": 0,
  "metadata": {
    "colab": {
      "private_outputs": true,
      "provenance": [],
      "authorship_tag": "ABX9TyMt8pKig8m2kzPwM1mM0XuF",
      "include_colab_link": true
    },
    "kernelspec": {
      "name": "python3",
      "display_name": "Python 3"
    },
    "language_info": {
      "name": "python"
    }
  },
  "cells": [
    {
      "cell_type": "markdown",
      "metadata": {
        "id": "view-in-github",
        "colab_type": "text"
      },
      "source": [
        "<a href=\"https://colab.research.google.com/github/Drmoxer/python-fundamentals-portfolio/blob/main/filtro_idades.ipynb\" target=\"_parent\"><img src=\"https://colab.research.google.com/assets/colab-badge.svg\" alt=\"Open In Colab\"/></a>"
      ]
    },
    {
      "cell_type": "markdown",
      "source": [
        "🔀 3. If Statements / Boolean Algebra\n",
        "\n",
        "Objetivo: Tomar decisões com base em condições.\n",
        "\n",
        "Exercícios:\n",
        "\n",
        "🟢 Verifique se um número é par ou ímpar."
      ],
      "metadata": {
        "id": "Xw7E3zxkyO5O"
      }
    },
    {
      "cell_type": "code",
      "execution_count": null,
      "metadata": {
        "id": "3hLreBUxx1JY"
      },
      "outputs": [],
      "source": [
        "num = int(input(\"Digite o número que deseja ? \"))\n",
        "par = num % 2 == 0\n",
        "if par:\n",
        "  print(\"Seu número é Par \")\n",
        "else:\n",
        "  print (\"Seu número é Impar \")\n"
      ]
    },
    {
      "cell_type": "markdown",
      "source": [
        "🟡 Receba uma nota (0–10) e classifique como “Reprovado”, “Recuperação” ou “Aprovado”.\n"
      ],
      "metadata": {
        "id": "a30SOVfJySa-"
      }
    },
    {
      "cell_type": "code",
      "source": [
        "MEDIA = 5\n",
        "Nota = int(input(\"Digite sua Nota \"))\n",
        "if Nota < 5 or Nota == 0 :\n",
        "    print(f\"\\n Sua nota é {Nota}\\n  REPROVADO\")\n",
        "else:\n",
        "    print(f\"\\n Sua nota é {Nota} \\n APROVADO\")\n"
      ],
      "metadata": {
        "id": "zMnwqYw6yTMZ"
      },
      "execution_count": null,
      "outputs": []
    },
    {
      "cell_type": "markdown",
      "source": [
        "**🔵 Exercício: Verificar idade em uma lista (consulta lógica simulada)**\n",
        "\n",
        "Objetivo:\n",
        "Trabalhar com uma lista de dados simples e aplicar uma condição lógica para verificar se existe alguém maior que 18 anos e menor que 30.\n",
        "\n",
        "**📝 Passo 1 — Entendendo o que é uma lista**\n",
        "\n",
        "Uma lista é uma estrutura que guarda vários valores dentro de uma mesma variável.\n",
        "Ela é escrita entre colchetes [], e os valores ficam separados por vírgula.\n",
        "\n",
        "Exemplo:\n",
        "\n",
        "```\n",
        "# idades = [12, 17, 25, 31, 40]\n",
        "```\n",
        "\n",
        "\n",
        "\n",
        "Nesse exemplo, a variável idades é uma lista com 5 números.\n",
        "\n",
        "**📝 Passo 2 — O que você precisa verificar**\n",
        "\n",
        "Você deve olhar essa lista e descobrir se existe pelo menos uma idade que seja:\n",
        "\n",
        "1. maior que 18\n",
        "\n",
        "2. e menor que 30"
      ],
      "metadata": {
        "id": "TMQPY494yTmQ"
      }
    },
    {
      "cell_type": "code",
      "source": [
        "idades = [12, 17, 25, 31, 40]\n",
        "for idade in idades:\n",
        "  if idade >= 18 and idade <= 30 :\n",
        "   print(idade , \"é maior que 18 e menor que 30\")\n",
        ""
      ],
      "metadata": {
        "id": "38BCs9AZyXXb"
      },
      "execution_count": null,
      "outputs": []
    }
  ]
}