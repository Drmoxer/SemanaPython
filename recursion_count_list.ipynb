{
  "nbformat": 4,
  "nbformat_minor": 0,
  "metadata": {
    "colab": {
      "private_outputs": true,
      "provenance": [],
      "authorship_tag": "ABX9TyOT7pGO/gvOX8QXijM8VCPR",
      "include_colab_link": true
    },
    "kernelspec": {
      "name": "python3",
      "display_name": "Python 3"
    },
    "language_info": {
      "name": "python"
    }
  },
  "cells": [
    {
      "cell_type": "markdown",
      "metadata": {
        "id": "view-in-github",
        "colab_type": "text"
      },
      "source": [
        "<a href=\"https://colab.research.google.com/github/Drmoxer/python-fundamentals-portfolio/blob/08_recursion/recursion_count_list.ipynb\" target=\"_parent\"><img src=\"https://colab.research.google.com/assets/colab-badge.svg\" alt=\"Open In Colab\"/></a>"
      ]
    },
    {
      "cell_type": "markdown",
      "source": [
        "🔁 8. Recursion\n",
        "\n",
        "Objetivo: Pensar recursivamente.\n",
        "\n",
        "Exercícios:\n",
        "\n",
        "🟢 Crie uma função recursiva que calcule o fatorial de um número.\n",
        "\n"
      ],
      "metadata": {
        "id": "_sxguMhiNvUf"
      }
    },
    {
      "cell_type": "code",
      "execution_count": null,
      "metadata": {
        "id": "odMQIOZyNKLG"
      },
      "outputs": [],
      "source": [
        "\n"
      ]
    },
    {
      "cell_type": "markdown",
      "source": [
        "🟡 Crie uma função recursiva que conte quantos elementos existem em uma lista.\n"
      ],
      "metadata": {
        "id": "gJzG5f3HO-yd"
      }
    },
    {
      "cell_type": "code",
      "source": [],
      "metadata": {
        "id": "GBb88cfSO_30"
      },
      "execution_count": null,
      "outputs": []
    },
    {
      "cell_type": "markdown",
      "source": [
        "\n",
        "\n",
        "🔵 Desafio: use recursão para navegar por um “dicionário de dados aninhado” e encontrar um valor específico (simula buscar em JSONs complexos)."
      ],
      "metadata": {
        "id": "k7ZRgn71PAJk"
      }
    },
    {
      "cell_type": "code",
      "source": [],
      "metadata": {
        "id": "v5DNV2ANPCFU"
      },
      "execution_count": null,
      "outputs": []
    }
  ]
}